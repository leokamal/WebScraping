{
  "nbformat": 4,
  "nbformat_minor": 0,
  "metadata": {
    "colab": {
      "provenance": []
    },
    "kernelspec": {
      "name": "python3",
      "display_name": "Python 3"
    },
    "language_info": {
      "name": "python"
    }
  },
  "cells": [
    {
      "cell_type": "code",
      "execution_count": 21,
      "metadata": {
        "colab": {
          "base_uri": "https://localhost:8080/"
        },
        "id": "CZAq5M6fr_ZM",
        "outputId": "dbd1b4c0-2afb-4c6b-8043-3bf7eae2beb1"
      },
      "outputs": [
        {
          "output_type": "stream",
          "name": "stdout",
          "text": [
            "\n",
            "                            Etudiez le fonctionnement d’Elasticsearch - Maîtrisez les bases de données NoSQL - OpenClassrooms\n",
            "                    \n",
            "\n",
            "course.header.alt.is_certifying\n",
            "\n"
          ]
        }
      ],
      "source": [
        "# importer les modules nécessaires\n",
        "from bs4 import BeautifulSoup\n",
        "import requests\n",
        "# définir le lien à web scraper\n",
        "url = 'https://openclassrooms.com/fr/courses/4462426-maitrisez-les-bases-de-donnees-nosql/4474691-etudiez-le-fonctionnement-d-elasticsearch'\n",
        "# récupérer le contenu du site web\n",
        "reponse = requests.get(url)\n",
        "contenu = reponse.text\n",
        "# parser le contenu HTML à l'aide de BeautifulSoup\n",
        "soup = BeautifulSoup(contenu, features=\"html.parser\")\n",
        "# extraire le titre du site web\n",
        "title = soup.title.string\n",
        "print(title)\n",
        "# extraire le premier paragraphe du contenu HTML\n",
        "paragraph = soup.findAll('p')[4].text\n",
        "print(paragraph)"
      ]
    },
    {
      "cell_type": "markdown",
      "source": [
        "#Excercice 1\n",
        "1. Le site web https://books.toscrape.com contient un catalogue de bouquins.\n",
        "Vous allez récupérer la page web situé à l’endroit : Home > Books >\n",
        "Classics et vous allez afficher le titre et le prix des bouquins (Classiques)\n",
        "du moins cher au plus cher."
      ],
      "metadata": {
        "id": "l4iA-O9ktyxH"
      }
    },
    {
      "cell_type": "code",
      "source": [
        "import requests\n",
        "from bs4 import BeautifulSoup\n",
        "\n",
        "# URL de la page contenant les classiques\n",
        "url = \"https://books.toscrape.com/catalogue/category/books/classics_6/index.html\"\n",
        "\n",
        "# Faire une requête GET à l'URL\n",
        "response = requests.get(url)\n",
        "\n",
        "# Vérifier si la requête a réussi\n",
        "if response.status_code == 200:\n",
        "    # Analyser le contenu HTML de la page\n",
        "    soup = BeautifulSoup(response.content, 'html.parser')\n",
        "\n",
        "    # Trouver tous les éléments correspondant aux livres classiques\n",
        "    books = soup.find_all('li', class_='col-xs-6 col-sm-4 col-md-3 col-lg-3')\n",
        "\n",
        "    # Créer une liste pour stocker les titres et prix des livres\n",
        "    books_info = []\n",
        "\n",
        "    # Parcourir chaque livre\n",
        "    for book in books:\n",
        "        # Extraire le titre du livre\n",
        "        title = book.h3.a['title']\n",
        "\n",
        "        # Extraire le prix du livre\n",
        "        price = book.find('p', class_='price_color').text\n",
        "\n",
        "        # Ajouter le titre et le prix à la liste des informations sur les livres\n",
        "        books_info.append((title, price))\n",
        "\n",
        "    # Trier les livres par prix (du moins cher au plus cher)\n",
        "    sorted_books_info = sorted(books_info, key=lambda x: float(x[1].strip('£')))\n",
        "\n",
        "    # Afficher les titres et prix des livres triés\n",
        "    for book_info in sorted_books_info:\n",
        "        print(f\"Titre: {book_info[0]} - Prix: {book_info[1]}\")\n",
        "else:\n",
        "    print(\"Erreur lors de la récupération de la page.\")\n"
      ],
      "metadata": {
        "colab": {
          "base_uri": "https://localhost:8080/"
        },
        "id": "bq-On8xCuaeE",
        "outputId": "f143c0e6-cdfc-40da-86dd-56a547f8320b"
      },
      "execution_count": 22,
      "outputs": [
        {
          "output_type": "stream",
          "name": "stdout",
          "text": [
            "Titre: The Hound of the Baskervilles (Sherlock Holmes #5) - Prix: £14.82\n",
            "Titre: The Secret Garden - Prix: £15.08\n",
            "Titre: Wuthering Heights - Prix: £17.73\n",
            "Titre: The Complete Stories and Poems (The Works of Edgar Allan Poe [Cameo Edition]) - Prix: £26.78\n",
            "Titre: Little Women (Little Women #1) - Prix: £28.07\n",
            "Titre: The Metamorphosis - Prix: £28.58\n",
            "Titre: The Picture of Dorian Gray - Prix: £29.70\n",
            "Titre: Gone with the Wind - Prix: £32.49\n",
            "Titre: Emma - Prix: £32.93\n",
            "Titre: And Then There Were None - Prix: £35.01\n",
            "Titre: Sense and Sensibility - Prix: £37.46\n",
            "Titre: Beowulf - Prix: £38.35\n",
            "Titre: The Story of Hong Gildong - Prix: £43.19\n",
            "Titre: The Little Prince - Prix: £45.42\n",
            "Titre: Of Mice and Men - Prix: £47.11\n",
            "Titre: The Pilgrim's Progress - Prix: £50.26\n",
            "Titre: Alice in Wonderland (Alice's Adventures in Wonderland #1) - Prix: £55.53\n",
            "Titre: Animal Farm - Prix: £57.22\n",
            "Titre: Candide - Prix: £58.63\n"
          ]
        }
      ]
    },
    {
      "cell_type": "markdown",
      "source": [
        "#Excercice 2\n",
        "Vous allez modifier votre bot de telle manière qu’il cherche un bouquin par\n",
        "titre. Puis, affiche les informations associées avec bouquin, incluant le prix.\n",
        "Par exemple, si l’utilisateur saisit \"The Little Prince\" , le prix \"£45.42\"\n",
        "sera affiché"
      ],
      "metadata": {
        "id": "ffHt67-F1car"
      }
    },
    {
      "cell_type": "code",
      "source": [
        "import requests\n",
        "from bs4 import BeautifulSoup\n",
        "import urllib.parse\n",
        "\n",
        "def search_book_by_title(title):\n",
        "    # Encode the search query\n",
        "    encoded_title = urllib.parse.quote_plus(title)\n",
        "\n",
        "    # Construct the search URL with the encoded query\n",
        "    search_url = f\"https://books.toscrape.com/catalogue/category/books_1/?q={encoded_title}\"\n",
        "\n",
        "    # Send a GET request to the search URL\n",
        "    response = requests.get(search_url)\n",
        "\n",
        "    # Check if the request was successful\n",
        "    if response.status_code == 200:\n",
        "        # Parse the HTML content of the search results page\n",
        "        soup = BeautifulSoup(response.content, 'html.parser')\n",
        "\n",
        "        # Find all books in the search results\n",
        "        books = soup.find_all('article', class_='product_pod')\n",
        "\n",
        "        # Check if any books were found\n",
        "        if books:\n",
        "            # Iterate over each book\n",
        "            for book in books:\n",
        "                # Extract book information\n",
        "                book_title = book.h3.a['title']\n",
        "                book_price = book.find('p', class_='price_color').text.strip()\n",
        "\n",
        "                # Check if the title of the book matches the search query\n",
        "                if title.lower() in book_title.lower():\n",
        "                    # Print book information\n",
        "                    print(f\"Titre: {book_title} - Prix: {book_price}\")\n",
        "                    return  # Stop searching after finding the first matching book\n",
        "            # If no book matches the search query\n",
        "            print(\"Aucun livre trouvé avec ce titre.\")\n",
        "        else:\n",
        "            print(\"Aucun livre trouvé avec ce titre.\")\n",
        "    else:\n",
        "        print(\"Erreur lors de la recherche.\")\n",
        "\n",
        "# Demander à l'utilisateur de saisir le titre du livre\n",
        "user_input = input(\"Entrez le titre du livre à rechercher: \")\n",
        "\n",
        "# Rechercher le livre par titre et afficher ses informations\n",
        "search_book_by_title(user_input)"
      ],
      "metadata": {
        "colab": {
          "base_uri": "https://localhost:8080/"
        },
        "id": "5WoAe64qu9J9",
        "outputId": "46cee3a6-0afc-43f3-c939-f861446fd8cb"
      },
      "execution_count": 25,
      "outputs": [
        {
          "output_type": "stream",
          "name": "stdout",
          "text": [
            "Entrez le titre du livre à rechercher: Set Me Free\n",
            "Titre: Set Me Free - Prix: £17.46\n"
          ]
        }
      ]
    }
  ]
}